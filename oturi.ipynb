{
  "nbformat": 4,
  "nbformat_minor": 0,
  "metadata": {
    "colab": {
      "provenance": []
    },
    "kernelspec": {
      "name": "python3",
      "display_name": "Python 3"
    },
    "language_info": {
      "name": "python"
    }
  },
  "cells": [
    {
      "cell_type": "code",
      "execution_count": 5,
      "metadata": {
        "colab": {
          "base_uri": "https://localhost:8080/"
        },
        "id": "8-eOR-cVMdbM",
        "outputId": "aceeea97-268e-45b4-d6be-b83ab9ac256a"
      },
      "outputs": [
        {
          "output_type": "stream",
          "name": "stdout",
          "text": [
            "入れる金額を10の倍数を入力してください1000\n",
            "買いたいものを10の倍数円で入力してください5000\n",
            "金額が足りません\n"
          ]
        }
      ],
      "source": [
        "n = int(input(\"入れる金額を10の倍数を入力してください\"))\n",
        "x = int(input(\"買いたいものを10の倍数円で入力してください\"))\n",
        "m = n - x\n",
        "\n",
        "if n > x:\n",
        "    a1 = m // 500\n",
        "    m1 = m % 500\n",
        "\n",
        "    a2 = m1 //100\n",
        "    m2 = m1 % 100\n",
        "\n",
        "    a3 = m2 // 50\n",
        "    m3 = m2 % 50\n",
        "\n",
        "    a4 = m3 //10\n",
        "\n",
        "    print(f\"５００円:{a1}枚、１００円:{a2}枚、５０円:{a3}枚、１０円:{a4}枚\")\n",
        "\n",
        "else:\n",
        "    print(\"金額が足りません\")"
      ]
    }
  ]
}